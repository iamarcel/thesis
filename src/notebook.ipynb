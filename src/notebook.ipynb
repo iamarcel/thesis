{
 "cells": [
  {
   "cell_type": "markdown",
   "metadata": {},
   "source": [
    "# The Notebook\n",
    "\n",
    "This notebook contains a variety of, mostly interactive, graphs and other things to explore."
   ]
  },
  {
   "cell_type": "code",
   "execution_count": 1,
   "metadata": {},
   "outputs": [
    {
     "data": {
      "text/html": [
       "<script>requirejs.config({paths: { 'plotly': ['https://cdn.plot.ly/plotly-latest.min']},});if(!window.Plotly) {{require(['plotly'],function(plotly) {window.Plotly=plotly;});}}</script>"
      ],
      "text/vnd.plotly.v1+html": [
       "<script>requirejs.config({paths: { 'plotly': ['https://cdn.plot.ly/plotly-latest.min']},});if(!window.Plotly) {{require(['plotly'],function(plotly) {window.Plotly=plotly;});}}</script>"
      ]
     },
     "metadata": {},
     "output_type": "display_data"
    }
   ],
   "source": [
    "import plotly as py\n",
    "import plotly.graph_objs as go\n",
    "import ipywidgets as widgets\n",
    "import numpy as np\n",
    "from random import randint\n",
    "\n",
    "py.offline.init_notebook_mode(connected=True)"
   ]
  },
  {
   "cell_type": "code",
   "execution_count": 2,
   "metadata": {},
   "outputs": [],
   "source": [
    "import common\n",
    "import common.data_utils\n",
    "import common.pose_utils"
   ]
  },
  {
   "cell_type": "markdown",
   "metadata": {},
   "source": [
    "## Testing Pose-Angle conversion"
   ]
  },
  {
   "cell_type": "code",
   "execution_count": 3,
   "metadata": {},
   "outputs": [
    {
     "data": {
      "application/vnd.jupyter.widget-view+json": {
       "model_id": "a3c0eccf817e4da4ad1402919d78183c",
       "version_major": 2,
       "version_minor": 0
      },
      "text/plain": [
       "aW50ZXJhY3RpdmUoY2hpbGRyZW49KEZsb2F0U2xpZGVyKHZhbHVlPTAuMCwgZGVzY3JpcHRpb249dSdSU2hvdWxkZXJQaXRjaCcsIG1heD0yLjAsIG1pbj0tMi4wKSwgRmxvYXRTbGlkZXIodmHigKY=\n"
      ]
     },
     "metadata": {},
     "output_type": "display_data"
    }
   ],
   "source": [
    "layout = go.Layout(\n",
    "    title='A Single Pose',\n",
    "    width=800,\n",
    "    height=800,\n",
    "    scene=dict(\n",
    "        aspectmode='cube',\n",
    "        xaxis=dict(\n",
    "            range=[-0.5, 0.5]\n",
    "        ),\n",
    "        yaxis=dict(\n",
    "            range=[-0.5, 0.5]\n",
    "        ),\n",
    "        zaxis=dict(\n",
    "            range=[-0.5, 0.5]\n",
    "        )\n",
    "    )\n",
    ")\n",
    "\n",
    "def updated_data(\n",
    "        r_shoulder_pitch, r_shoulder_roll, r_elbow_roll,\n",
    "        l_shoulder_pitch, l_shoulder_roll, l_elbow_roll,\n",
    "        head_pitch, head_yaw,\n",
    "        hip_roll, hip_pitch,\n",
    "        ):\n",
    "    angles = dict(\n",
    "        HipRoll=hip_roll,\n",
    "        HipPitch=hip_pitch,\n",
    "        RShoulderPitch=r_shoulder_pitch,\n",
    "        RShoulderRoll=r_shoulder_roll,\n",
    "        LShoulderPitch=l_shoulder_pitch,\n",
    "        LShoulderRoll=l_shoulder_roll,\n",
    "        RElbowRoll=r_elbow_roll,\n",
    "        LElbowRoll=l_elbow_roll,\n",
    "        HeadPitch=head_pitch,\n",
    "        HeadYaw=head_yaw\n",
    "    )\n",
    "\n",
    "    pose = common.pose_utils.get_pose_from_angles(angles)\n",
    "    \n",
    "    Xs = []\n",
    "    Ys = []\n",
    "    Zs = []\n",
    "    for joint in common.pose_utils.JOINTS:\n",
    "        Xs += [pose[joint[0]][0], pose[joint[1]][0], None]\n",
    "        Ys += [pose[joint[0]][1], pose[joint[1]][1], None]\n",
    "        Zs += [pose[joint[0]][2], pose[joint[1]][2], None]\n",
    "        \n",
    "    return Xs, Ys, Zs\n",
    "\n",
    "def update_plot(\n",
    "        r_shoulder_pitch, r_shoulder_roll, r_elbow_roll,\n",
    "        l_shoulder_pitch, l_shoulder_roll, l_elbow_roll,\n",
    "        head_pitch, head_yaw,\n",
    "        hip_roll, hip_pitch,\n",
    "        ):\n",
    "    Xs, Ys, Zs = updated_data(\n",
    "        r_shoulder_pitch, r_shoulder_roll, r_elbow_roll,\n",
    "        l_shoulder_pitch, l_shoulder_roll, l_elbow_roll,\n",
    "        head_pitch, head_yaw,\n",
    "        hip_roll, hip_pitch,\n",
    "        )\n",
    "    \n",
    "    trace1 = go.Scatter3d(\n",
    "        x=Xs,\n",
    "        y=Ys,\n",
    "        z=Zs,\n",
    "        mode='lines',\n",
    "        line=dict(color='rgb(125,125,125)', width=5)\n",
    "    )\n",
    "\n",
    "    fig = go.Figure(data=[trace1], layout=layout)\n",
    "    the_plot = py.offline.iplot(fig, filename='test')\n",
    "    print(dir(fig))\n",
    "    \n",
    "r_shoulder_pitch = widgets.FloatSlider(\n",
    "    value=0.,\n",
    "    min=-2.,\n",
    "    max=2.,\n",
    "    step=0.1,\n",
    "    description='RShoulderPitch'\n",
    ")\n",
    "r_shoulder_roll = widgets.FloatSlider(\n",
    "    value=0.,\n",
    "    min=-1.3,\n",
    "    max=.3,\n",
    "    step=0.1,\n",
    "    description='RShoulderRoll'\n",
    ")\n",
    "r_elbow_roll = widgets.FloatSlider(\n",
    "    value=0.,\n",
    "    min=0.,\n",
    "    max=1.5,\n",
    "    step=0.1,\n",
    "    description='RElbowRoll'\n",
    ")\n",
    "l_shoulder_pitch = widgets.FloatSlider(\n",
    "    value=0.,\n",
    "    min=-2.,\n",
    "    max=2.,\n",
    "    step=0.1,\n",
    "    description='LShoulderPitch'\n",
    ")\n",
    "l_shoulder_roll = widgets.FloatSlider(\n",
    "    value=0.,\n",
    "    min=-.3,\n",
    "    max=1.3,\n",
    "    step=0.1,\n",
    "    description='LShoulderRoll'\n",
    ")\n",
    "l_elbow_roll = widgets.FloatSlider(\n",
    "    value=0.,\n",
    "    min=-1.5,\n",
    "    max=0.,\n",
    "    step=0.1,\n",
    "    description='LElbowRoll'\n",
    ")\n",
    "head_pitch = widgets.FloatSlider(\n",
    "    value=0.,\n",
    "    min=-.7,\n",
    "    max=.5,\n",
    "    step=0.1,\n",
    "    description='HeadPitch'\n",
    ")\n",
    "head_yaw = widgets.FloatSlider(\n",
    "    value=0.,\n",
    "    min=-2.1,\n",
    "    max=2.1,\n",
    "    step=0.1,\n",
    "    description='HeadYaw'\n",
    ")\n",
    "hip_roll = widgets.FloatSlider(\n",
    "    value=0.,\n",
    "    min=-.5,\n",
    "    max=.5,\n",
    "    step=0.1,\n",
    "    description='HipRoll'\n",
    ")\n",
    "hip_pitch = widgets.FloatSlider(\n",
    "    value=0.,\n",
    "    min=-1.,\n",
    "    max=1.,\n",
    "    step=0.1,\n",
    "    description='HipPitch'\n",
    ")\n",
    "\n",
    "w = widgets.interactive(update_plot, \n",
    "                        r_shoulder_pitch=r_shoulder_pitch,\n",
    "                        r_shoulder_roll=r_shoulder_roll,\n",
    "                        r_elbow_roll=r_elbow_roll,\n",
    "                        l_shoulder_pitch=l_shoulder_pitch,\n",
    "                        l_shoulder_roll=l_shoulder_roll,\n",
    "                        l_elbow_roll=l_elbow_roll,\n",
    "                        head_pitch=head_pitch,\n",
    "                        head_yaw=head_yaw,\n",
    "                        hip_roll=hip_roll,\n",
    "                        hip_pitch=hip_pitch\n",
    "                       )\n",
    "display(w)"
   ]
  },
  {
   "cell_type": "code",
   "execution_count": null,
   "metadata": {},
   "outputs": [],
   "source": []
  }
 ],
 "metadata": {
  "kernelspec": {
   "display_name": "Python 2",
   "language": "python",
   "name": "python2"
  },
  "language_info": {
   "codemirror_mode": {
    "name": "ipython",
    "version": 2
   },
   "file_extension": ".py",
   "mimetype": "text/x-python",
   "name": "python",
   "nbconvert_exporter": "python",
   "pygments_lexer": "ipython2",
   "version": "2.7.12"
  }
 },
 "nbformat": 4,
 "nbformat_minor": 2
}
